{
 "cells": [
  {
   "cell_type": "code",
   "execution_count": 1,
   "id": "65632451-2c02-465e-85d7-3f2f03acd375",
   "metadata": {},
   "outputs": [
    {
     "name": "stdin",
     "output_type": "stream",
     "text": [
      "Enter amount:  100\n",
      "Convert from (e.g., USD):  USD\n",
      "Convert to (e.g., INR):  INR\n"
     ]
    },
    {
     "name": "stdout",
     "output_type": "stream",
     "text": [
      "Converted Amount: 8629.00 INR\n"
     ]
    }
   ],
   "source": [
    "import requests\n",
    "\n",
    "amount = float(input(\"Enter amount: \"))\n",
    "from_currency = input(\"Convert from (e.g., USD): \").upper()\n",
    "to_currency = input(\"Convert to (e.g., INR): \").upper()\n",
    "\n",
    "url = f\"https://api.exchangerate-api.com/v4/latest/{from_currency}\"\n",
    "response = requests.get(url)\n",
    "data = response.json()\n",
    "\n",
    "if to_currency in data['rates']:\n",
    "    rate = data['rates'][to_currency]\n",
    "    converted = amount * rate\n",
    "    print(f\"Converted Amount: {converted:.2f} {to_currency}\")\n",
    "else:\n",
    "    print(\"Currency not found.\")"
   ]
  },
  {
   "cell_type": "code",
   "execution_count": null,
   "id": "686ef146-00d4-449b-a807-faae4ac55c62",
   "metadata": {},
   "outputs": [],
   "source": []
  }
 ],
 "metadata": {
  "kernelspec": {
   "display_name": "Python 3 (ipykernel)",
   "language": "python",
   "name": "python3"
  },
  "language_info": {
   "codemirror_mode": {
    "name": "ipython",
    "version": 3
   },
   "file_extension": ".py",
   "mimetype": "text/x-python",
   "name": "python",
   "nbconvert_exporter": "python",
   "pygments_lexer": "ipython3",
   "version": "3.12.3"
  }
 },
 "nbformat": 4,
 "nbformat_minor": 5
}
